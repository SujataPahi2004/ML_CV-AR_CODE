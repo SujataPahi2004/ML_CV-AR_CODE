{
  "nbformat": 4,
  "nbformat_minor": 0,
  "metadata": {
    "colab": {
      "private_outputs": true,
      "provenance": [],
      "include_colab_link": true
    },
    "kernelspec": {
      "name": "python3",
      "display_name": "Python 3"
    },
    "language_info": {
      "name": "python"
    }
  },
  "cells": [
    {
      "cell_type": "markdown",
      "metadata": {
        "id": "view-in-github",
        "colab_type": "text"
      },
      "source": [
        "<a href=\"https://colab.research.google.com/github/SujataPahi2004/ML_CV-AR_CODE/blob/main/Linear_regression_Nov24ipynb.ipynb\" target=\"_parent\"><img src=\"https://colab.research.google.com/assets/colab-badge.svg\" alt=\"Open In Colab\"/></a>"
      ]
    },
    {
      "cell_type": "code",
      "execution_count": null,
      "metadata": {
        "id": "Ma05RojSced4"
      },
      "outputs": [],
      "source": [
        "# Import necessary libraries\n",
        "import numpy as np\n",
        "import matplotlib.pyplot as plt\n",
        "from sklearn.linear_model import LinearRegression\n",
        "\n",
        "# Step 1: Define some data points\n",
        "# Let's create a simple dataset where y = 2x + 3 with some random noise\n",
        "np.random.seed(1)  # For reproducible results\n",
        "X = 2 * np.random.rand(100, 1)  # Generate 100 random points for X\n",
        "# print(np.random.rand(100, 1) )\n",
        "y = 2 * X + 3 + np.random.randn(100, 1)  # y = 2x + 3 + some noise\n",
        "# print(X,y)\n",
        "# Step 2: Plot the initial data points\n",
        "plt.scatter(X, y, color=\"blue\", label=\"Data Points\")\n",
        "plt.xlabel(\"X\")\n",
        "plt.ylabel(\"y\")\n",
        "plt.title(\"Data Points for Linear Regression\")\n",
        "# plt.scatter(X,y)\n",
        "\n",
        "\n",
        "# Step 3: Fit a linear regression model to the data\n",
        "model = LinearRegression()  # Initialize the model\n",
        "model.fit(X, y)  # Fit the model to the data\n",
        "\n",
        "# Step 4: Plot the fitted line\n",
        "X_line = np.linspace(0, 2, 100).reshape(-1, 1)  # Create 100 points for a smooth line\n",
        "y_line = model.predict(X_line)  # Predict the line values\n",
        "\n",
        "plt.plot(X_line, y_line, color=\"red\", label=\"Fitted Line\")\n",
        "plt.legend()\n",
        "plt.show()\n",
        "\n",
        "# Step 5: Display the line's equation\n",
        "print(f\"The fitted line equation is: y = {model.coef_[0][0]:.2f}x + {model.intercept_[0]:.2f}\")\n",
        "\n"
      ]
    },
    {
      "cell_type": "code",
      "source": [
        "# Step 3: Fit a linear regression model to the data\n",
        "model = LinearRegression()  # Initialize the model\n",
        "model.fit(X, y)  # Fit the model to the data\n",
        "\n",
        "# Step 4: Plot the fitted line\n",
        "X_line = np.linspace(0, 2, 100).reshape(-1, 1)  # Create 100 points for a smooth line\n",
        "y_line = model.predict(X_line)  # Predict the line values\n",
        "\n",
        "plt.plot(X_line, y_line, color=\"red\", label=\"Fitted Line\")\n",
        "plt.legend()\n",
        "plt.show()\n",
        "\n",
        "# Step 5: Display the line's equation\n",
        "print(f\"The fitted line equation is: y = {model.coef_[0][0]:.2f}x + {model.intercept_[0]:.2f}\")\n",
        "print(\"hello is:{X[0]}\")"
      ],
      "metadata": {
        "id": "BAUSCiLBsYsa"
      },
      "execution_count": null,
      "outputs": []
    },
    {
      "cell_type": "code",
      "source": [
        "# Step 1: Define some sample data points\n",
        "# Example dataset (you can change this to your data)\n",
        "X = [1, 2, 3, 4, 5]   # X values\n",
        "y = [2, 3, 5, 7, 11]  # Corresponding y values\n",
        "\n",
        "# Step 2: Calculate the mean of X and y\n",
        "mean_x = sum(X) / len(X)\n",
        "mean_y = sum(y) / len(y)\n",
        "\n",
        "# Step 3: Calculate the slope (m) and intercept (b)\n",
        "# Using the formula for m and b\n",
        "numerator = sum((X[i] - mean_x) * (y[i] - mean_y) for i in range(len(X)))\n",
        "denominator = sum((X[i] - mean_x) ** 2 for i in range(len(X)))\n",
        "m = numerator / denominator  # Slope\n",
        "b = mean_y - m * mean_x      # Intercept\n",
        "\n",
        "# Step 4: Print the line equation\n",
        "print(f\"The fitted line equation is: y = {m:.2f}x + {b:.2f}\")\n",
        "\n",
        "# Step 5: Visualize the result by plotting (no libraries, so this is optional)\n",
        "# Calculate the fitted line values for each x in X\n",
        "y_fitted = [m * x + b for x in X]\n",
        "\n",
        "# Displaying the results\n",
        "print(\"\\nOriginal data points:\")\n",
        "for xi, yi in zip(X, y):\n",
        "    print(f\"({xi}, {yi})\")\n",
        "print(\"\\nFitted line points:\")\n",
        "for xi, yi_fitted in zip(X, y_fitted):\n",
        "    print(f\"({xi}, {yi_fitted:.2f})\")\n"
      ],
      "metadata": {
        "id": "0z4ytM5fcvP1"
      },
      "execution_count": null,
      "outputs": []
    }
  ]
}